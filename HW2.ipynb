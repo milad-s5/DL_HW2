{
  "cells": [
    {
      "cell_type": "markdown",
      "metadata": {
        "id": "05BV10WMtZ0G"
      },
      "source": [
        "## load dataset and import libs"
      ]
    }
  ],
  "metadata": {
    "colab": {
      "collapsed_sections": [
        "05BV10WMtZ0G",
        "OZPbvyGatKln",
        "vBmsrdEDOuAF",
        "bJg4zrg4Kkad",
        "Ih63kmknGKyY",
        "bjjSo4nWbEWC",
        "_MN1RI6mKl_T",
        "ttGQkkigyyZh",
        "AXknhi2fys2G",
        "AdyWigCmVe1M",
        "pIdSIkPvDRNC",
        "aFUmDVwwRdvH",
        "R5kyTbOF_hhK"
      ],
      "include_colab_link": true,
      "name": "Q1_HW1.ipynb",
      "provenance": []
    },
    "kernelspec": {
      "display_name": "Python 3",
      "name": "python3"
    },
    "language_info": {
      "name": "python"
    }
  },
  "nbformat": 4,
  "nbformat_minor": 0
}
